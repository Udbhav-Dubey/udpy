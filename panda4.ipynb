{
 "cells": [
  {
   "cell_type": "code",
   "execution_count": 10,
   "id": "febab838-11eb-493d-bf08-8e2aa39bcfcf",
   "metadata": {},
   "outputs": [
    {
     "name": "stdout",
     "output_type": "stream",
     "text": [
      "0     1\n",
      "1     4\n",
      "2     9\n",
      "3    16\n",
      "dtype: int64\n",
      "   A   B\n",
      "0  1  10\n",
      "1  2  20\n",
      "2  3  30\n",
      "A     6\n",
      "B    60\n",
      "dtype: int64\n",
      "0    11\n",
      "1    22\n",
      "2    33\n",
      "dtype: int64\n"
     ]
    }
   ],
   "source": [
    "# %load panda31.py\n",
    "import pandas as pd\n",
    "s=pd.Series([1,2,3,4])\n",
    "result=s.apply(lambda x : x**2)\n",
    "print(result)\n",
    "df=pd.DataFrame({\n",
    "    'A':[1,2,3],\n",
    "    'B':[10,20,30]\n",
    "})\n",
    "print(df)\n",
    "result=df.apply(sum,axis=0)\n",
    "print(result)\n",
    "result=df.apply(sum,axis=1)\n",
    "print(result)\n",
    "\n"
   ]
  },
  {
   "cell_type": "code",
   "execution_count": 11,
   "id": "37293d6c-e552-4098-8865-a1181f22fde2",
   "metadata": {},
   "outputs": [
    {
     "name": "stdout",
     "output_type": "stream",
     "text": [
      "   A  B  C\n",
      "0  1  4  7\n",
      "1  2  5  8\n",
      "2  3  6  9\n",
      "   A  B  C  add\n",
      "0  1  4  7   12\n",
      "1  2  5  8   15\n",
      "2  3  6  9   18\n",
      "   A  B  C  add  np_add_1\n",
      "0  1  4  7   12        12\n",
      "1  2  5  8   15        15\n",
      "2  3  6  9   18        18\n",
      "   A  B  C  add  np_add_1  np_add_0\n",
      "0  1  4  7   12        12         6\n",
      "1  2  5  8   15        15        15\n",
      "2  3  6  9   18        18        24\n",
      "   A  B  C  add  np_add_1  np_add_0  res_add\n",
      "0  1  4  7   12        12         6       12\n",
      "1  2  5  8   15        15        15       15\n",
      "2  3  6  9   18        18        24       18\n",
      "   A  B  C  add  np_add_1  np_add_0  res_add  list_add\n",
      "0  1  4  7   12        12         6       12        12\n",
      "1  2  5  8   15        15        15       15        15\n",
      "2  3  6  9   18        18        24       18        18\n"
     ]
    }
   ],
   "source": [
    "# %load panda32.py\n",
    "import pandas as pd\n",
    "df=pd.DataFrame({'A':[1,2,3],'B':[4,5,6],'C':[7,8,9]})\n",
    "print(df)\n",
    "df['add']=df['A']+df['B']+df['C']\n",
    "print(df)\n",
    "import numpy as np\n",
    "df['np_add_1']=np.sum(df[['A','B','C']].values,axis=1)\n",
    "print(df)\n",
    "df['np_add_0']=np.sum(df[['A','B','C']].values,axis=0)\n",
    "print(df)\n",
    "res=[]\n",
    "for row in df.itertuples(index=False):\n",
    "    res.append(row.A+row.B+row.C)\n",
    "df['res_add']=res\n",
    "print(df)\n",
    "df['list_add'] = [a + b + c for a, b, c in zip(df['A'], df['B'], df['C'])]\n",
    "print(df)\n"
   ]
  },
  {
   "cell_type": "code",
   "execution_count": 12,
   "id": "65755437-f404-4f18-982f-4fe98a648b23",
   "metadata": {},
   "outputs": [
    {
     "name": "stdout",
     "output_type": "stream",
     "text": [
      "0     11.0\n",
      "1     21.0\n",
      "2      8.0\n",
      "3     18.0\n",
      "4     65.0\n",
      "5     18.0\n",
      "6     32.0\n",
      "7     10.0\n",
      "8      5.0\n",
      "9     32.0\n",
      "10     NaN\n",
      "dtype: float64\n",
      "2010-12-31 08:35:00    11.0\n",
      "2011-12-31 08:35:00    21.0\n",
      "2012-12-31 08:35:00     8.0\n",
      "2013-12-31 08:35:00    18.0\n",
      "2014-12-31 08:35:00    65.0\n",
      "2015-12-31 08:35:00    18.0\n",
      "2016-12-31 08:35:00    32.0\n",
      "2017-12-31 08:35:00    10.0\n",
      "2018-12-31 08:35:00     5.0\n",
      "2019-12-31 08:35:00    32.0\n",
      "2020-12-31 08:35:00     NaN\n",
      "Freq: YE-DEC, dtype: float64\n",
      "2010-12-31 08:35:00    False\n",
      "2011-12-31 08:35:00    False\n",
      "2012-12-31 08:35:00    False\n",
      "2013-12-31 08:35:00    False\n",
      "2014-12-31 08:35:00     True\n",
      "2015-12-31 08:35:00    False\n",
      "2016-12-31 08:35:00     True\n",
      "2017-12-31 08:35:00    False\n",
      "2018-12-31 08:35:00    False\n",
      "2019-12-31 08:35:00     True\n",
      "2020-12-31 08:35:00    False\n",
      "Freq: YE-DEC, dtype: bool\n"
     ]
    },
    {
     "name": "stderr",
     "output_type": "stream",
     "text": [
      "/tmp/ipykernel_33739/3346477102.py:5: FutureWarning: 'Y' is deprecated and will be removed in a future version, please use 'YE' instead.\n",
      "  index_=pd.date_range('2010-10-09 8:35',periods=11,freq='Y')\n"
     ]
    }
   ],
   "source": [
    "# %load panda33.py\n",
    "import pandas as pd\n",
    "sr = pd.Series([11, 21, 8, 18, 65, 18, 32, 10, 5, 32, None])\n",
    "print(sr)\n",
    "index_=pd.date_range('2010-10-09 8:35',periods=11,freq='Y')\n",
    "sr.index=index_\n",
    "print(sr)\n",
    "result = sr.apply(lambda x : True if x>30 else False)\n",
    "\n",
    "print(result)\n"
   ]
  },
  {
   "cell_type": "code",
   "execution_count": 13,
   "id": "eef4ea25-52f9-48f7-81b1-42c9ef416af0",
   "metadata": {},
   "outputs": [
    {
     "name": "stdout",
     "output_type": "stream",
     "text": [
      "            Name            Team  Number Position   Age Height  Weight  \\\n",
      "0  Avery Bradley  Boston Celtics     0.0       PG  25.0    6-2   180.0   \n",
      "1    Jae Crowder  Boston Celtics    99.0       SF  25.0    6-6   235.0   \n",
      "2   John Holland  Boston Celtics    30.0       SG  27.0    6-5   205.0   \n",
      "3    R.J. Hunter  Boston Celtics    28.0       SG  22.0    6-5   185.0   \n",
      "4  Jonas Jerebko  Boston Celtics     8.0       PF  29.0   6-10   231.0   \n",
      "5   Amir Johnson  Boston Celtics    90.0       PF  29.0    6-9   240.0   \n",
      "6  Jordan Mickey  Boston Celtics    55.0       PF  21.0    6-8   235.0   \n",
      "7   Kelly Olynyk  Boston Celtics    41.0        C  25.0    7-0   238.0   \n",
      "8   Terry Rozier  Boston Celtics    12.0       PG  22.0    6-2   190.0   \n",
      "9   Marcus Smart  Boston Celtics    36.0       PG  22.0    6-4   220.0   \n",
      "\n",
      "             College      Salary  \n",
      "0              Texas   7730337.0  \n",
      "1          Marquette   6796117.0  \n",
      "2  Boston University         NaN  \n",
      "3      Georgia State   1148640.0  \n",
      "4                NaN   5000000.0  \n",
      "5                NaN  12000000.0  \n",
      "6                LSU   1170960.0  \n",
      "7            Gonzaga   2165160.0  \n",
      "8         Louisville   1824360.0  \n",
      "9     Oklahoma State   3431040.0  \n",
      "     Number      Age    Weight        Salary\n",
      "sum  8079.0  12311.0  101236.0  2.159837e+09\n",
      "min     0.0     19.0     161.0  3.088800e+04\n",
      "     Number   Age    Weight        Salary\n",
      "sum  8079.0   NaN  101236.0  2.159837e+09\n",
      "min     0.0  19.0     161.0           NaN\n",
      "max     NaN  40.0       NaN           NaN\n"
     ]
    }
   ],
   "source": [
    "# %load panda34.py\n",
    "import pandas as pd\n",
    "df=pd.read_csv(\"nba.csv\")\n",
    "print(df[:10])\n",
    "result=df.select_dtypes(include='number').aggregate(['sum','min'])\n",
    "print(result)\n",
    "result=df.aggregate({\"Number\":['sum', 'min'], \n",
    "              \"Age\":['max', 'min'], \n",
    "              \"Weight\":['min', 'sum'],  \n",
    "              \"Salary\":['sum']})\n",
    "print(result)\n"
   ]
  },
  {
   "cell_type": "code",
   "execution_count": 14,
   "id": "3a21edf8-119b-441e-9247-9719906dd4ac",
   "metadata": {},
   "outputs": [
    {
     "name": "stdout",
     "output_type": "stream",
     "text": [
      "      A     B     C     D\n",
      "0  12.0   5.0  20.0  14.0\n",
      "1   4.0   2.0  16.0   NaN\n",
      "2   5.0  54.0   7.0  17.0\n",
      "3   NaN   3.0   NaN   2.0\n",
      "4   1.0   NaN   8.0   6.0\n",
      "A     5.50\n",
      "B    16.00\n",
      "C    12.75\n",
      "D     9.75\n",
      "dtype: float64\n",
      "0    12.750000\n",
      "1     7.333333\n",
      "2    20.750000\n",
      "3     2.500000\n",
      "4     5.000000\n",
      "dtype: float64\n",
      "11.0\n",
      "9.666666666666666\n"
     ]
    }
   ],
   "source": [
    "# %load panda35.py\n",
    "import pandas as pd\n",
    "\n",
    "df = pd.DataFrame({\"A\":[12, 4, 5, None, 1],\n",
    "                \"B\":[5, 2, 54, 3, None],\n",
    "                \"C\":[20, 16, 7, None, 8],\n",
    "                \"D\":[14, None, 17, 2, 6]})\n",
    "\n",
    "print(df)\n",
    "ss1=df.mean(axis=0)\n",
    "print(ss1)\n",
    "ss2=df.mean(axis=1,skipna=True)\n",
    "print(ss2)\n",
    "#now applying on this only\n",
    "sm1=ss1.mean()\n",
    "sm2=ss2.mean(skipna=True)\n",
    "print(sm1)\n",
    "print(sm2)\n"
   ]
  },
  {
   "cell_type": "code",
   "execution_count": 15,
   "id": "21143ffd-60ee-4103-8525-98c3c8a8db88",
   "metadata": {},
   "outputs": [
    {
     "name": "stdout",
     "output_type": "stream",
     "text": [
      "              Name            Team  Number Position   Age Height  Weight  \\\n",
      "0    Avery Bradley  Boston Celtics     0.0       PG  25.0    6-2   180.0   \n",
      "1      Jae Crowder  Boston Celtics    99.0       SF  25.0    6-6   235.0   \n",
      "2     John Holland  Boston Celtics    30.0       SG  27.0    6-5   205.0   \n",
      "3      R.J. Hunter  Boston Celtics    28.0       SG  22.0    6-5   185.0   \n",
      "4    Jonas Jerebko  Boston Celtics     8.0       PF  29.0   6-10   231.0   \n",
      "..             ...             ...     ...      ...   ...    ...     ...   \n",
      "453   Shelvin Mack       Utah Jazz     8.0       PG  26.0    6-3   203.0   \n",
      "454      Raul Neto       Utah Jazz    25.0       PG  24.0    6-1   179.0   \n",
      "455   Tibor Pleiss       Utah Jazz    21.0        C  26.0    7-3   256.0   \n",
      "456    Jeff Withey       Utah Jazz    24.0        C  26.0    7-0   231.0   \n",
      "457            NaN             NaN     NaN      NaN   NaN    NaN     NaN   \n",
      "\n",
      "               College     Salary  \n",
      "0                Texas  7730337.0  \n",
      "1            Marquette  6796117.0  \n",
      "2    Boston University        NaN  \n",
      "3        Georgia State  1148640.0  \n",
      "4                  NaN  5000000.0  \n",
      "..                 ...        ...  \n",
      "453             Butler  2433333.0  \n",
      "454                NaN   900000.0  \n",
      "455                NaN  2900000.0  \n",
      "456             Kansas   947276.0  \n",
      "457                NaN        NaN  \n",
      "\n",
      "[458 rows x 9 columns]\n",
      "Number         0.746862\n",
      "Age            0.206011\n",
      "Weight         1.233459\n",
      "Salary    247611.576815\n",
      "dtype: float64\n",
      "0      1.932567e+06\n",
      "1      1.698999e+06\n",
      "2      5.883971e+01\n",
      "3      2.871404e+05\n",
      "4      1.249978e+06\n",
      "           ...     \n",
      "453    6.083135e+05\n",
      "454    2.249810e+05\n",
      "455    7.249748e+05\n",
      "456    2.367956e+05\n",
      "457             NaN\n",
      "Length: 458, dtype: float64\n"
     ]
    }
   ],
   "source": [
    "# %load panda36.py\n",
    "import pandas as pd\n",
    "\n",
    "df = pd.read_csv(\"nba.csv\")\n",
    "print(df)\n",
    "print(df.select_dtypes(include='number').sem(axis=0))\n",
    "print(df.select_dtypes(include='number').sem(axis = 1))\n"
   ]
  },
  {
   "cell_type": "code",
   "execution_count": 16,
   "id": "39f6465b-22c4-4a96-a28f-46bbb01da197",
   "metadata": {},
   "outputs": [
    {
     "name": "stdout",
     "output_type": "stream",
     "text": [
      "0    New York\n",
      "1     Chicago\n",
      "2     Toronto\n",
      "3      Lisbon\n",
      "4         Rio\n",
      "5     Chicago\n",
      "6      Lisbon\n",
      "dtype: object\n",
      "Chicago     2\n",
      "Lisbon      2\n",
      "New York    1\n",
      "Toronto     1\n",
      "Rio         1\n",
      "Name: count, dtype: int64\n",
      "0    100.0\n",
      "1    214.0\n",
      "2    325.0\n",
      "3     88.0\n",
      "4      NaN\n",
      "5    325.0\n",
      "6      NaN\n",
      "7    325.0\n",
      "8    100.0\n",
      "dtype: float64\n",
      "325.0    3\n",
      "100.0    2\n",
      "214.0    1\n",
      "88.0     1\n",
      "Name: count, dtype: int64\n"
     ]
    }
   ],
   "source": [
    "# %load panda37.py\n",
    "import pandas as pd\n",
    "sr=pd.Series(['New York', 'Chicago', 'Toronto', 'Lisbon', 'Rio', 'Chicago', 'Lisbon'])\n",
    "print(sr)\n",
    "print(sr.value_counts())\n",
    "sr = pd.Series([100, 214, 325, 88, None, 325, None, 325, 100])\n",
    "print(sr)\n",
    "print(sr.value_counts())\n"
   ]
  },
  {
   "cell_type": "code",
   "execution_count": 17,
   "id": "a31fc7b2-0bf2-4dee-9157-1b69dcaec809",
   "metadata": {},
   "outputs": [
    {
     "name": "stdout",
     "output_type": "stream",
     "text": [
      "Python    1\n",
      "Java      1\n",
      "php       1\n",
      "Name: count, dtype: int64\n",
      "py      2\n",
      "java    1\n",
      "Name: count, dtype: int64\n",
      "py      0.666667\n",
      "java    0.333333\n",
      "Name: proportion, dtype: float64\n",
      "py      2\n",
      "java    1\n",
      "Name: count, dtype: int64\n",
      "java    1\n",
      "py      2\n",
      "Name: count, dtype: int64\n"
     ]
    }
   ],
   "source": [
    "# %load panda38.py\n",
    "import pandas as pd\n",
    "import numpy as np\n",
    "idx=pd.Index(['Python','Java','php'])\n",
    "print(idx.value_counts())\n",
    "a=pd.Index(['py','java','py'])\n",
    "print(a.value_counts())\n",
    "print(a.value_counts(normalize=True))\n",
    "print(a.value_counts(sort=True))\n",
    "print(a.value_counts(ascending=True))\n"
   ]
  },
  {
   "cell_type": "code",
   "execution_count": 18,
   "id": "2a18b1d8-f8e8-4016-824d-434c0192434b",
   "metadata": {},
   "outputs": [
    {
     "name": "stdout",
     "output_type": "stream",
     "text": [
      "NaN       2\n",
      "apple     1\n",
      "banana    1\n",
      "Name: count, dtype: int64\n",
      "(4.979, 15.0]    3\n",
      "(15.0, 25.0]     1\n",
      "Name: count, dtype: int64\n"
     ]
    }
   ],
   "source": [
    "# %load panda39.py\n",
    "import pandas as pd\n",
    "import numpy as np\n",
    "a = pd.Index(['apple', np.nan, 'banana', np.nan])\n",
    "print(a.value_counts(dropna=False))\n",
    "\n",
    "b = pd.Index([5, 15, 25, 10])\n",
    "print(b.value_counts(bins=2))\n"
   ]
  },
  {
   "cell_type": "code",
   "execution_count": null,
   "id": "5956d298-f348-4325-8b2d-4dab072e05e3",
   "metadata": {},
   "outputs": [],
   "source": []
  }
 ],
 "metadata": {
  "kernelspec": {
   "display_name": "Python 3 (ipykernel)",
   "language": "python",
   "name": "python3"
  },
  "language_info": {
   "codemirror_mode": {
    "name": "ipython",
    "version": 3
   },
   "file_extension": ".py",
   "mimetype": "text/x-python",
   "name": "python",
   "nbconvert_exporter": "python",
   "pygments_lexer": "ipython3",
   "version": "3.13.3"
  }
 },
 "nbformat": 4,
 "nbformat_minor": 5
}
