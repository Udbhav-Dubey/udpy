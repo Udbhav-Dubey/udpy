{
 "cells": [
  {
   "cell_type": "code",
   "execution_count": 27,
   "id": "cb1c20cf-0f6f-45cd-9617-c371f0f3688f",
   "metadata": {},
   "outputs": [
    {
     "name": "stdout",
     "output_type": "stream",
     "text": [
      "  Name  Age  class  subject\n",
      "0   ud   11      6     math\n",
      "1   bh   13      8  science\n",
      "2   av   15     10      sst\n",
      "  Name  subject\n",
      "0   ud     math\n",
      "1   bh  science\n",
      "2   av      sst\n",
      "   Age  class  subject\n",
      "0   11      6     math\n",
      "1   13      8  science\n",
      "2   15     10      sst\n",
      "  Name  Age\n",
      "1   bh   13\n",
      "2   av   15\n",
      "  Name  Age  class  subject\n",
      "1   bh   13      8  science\n",
      "2   av   15     10      sst\n",
      "   Age\n",
      "0   11\n",
      "1   13\n",
      "2   15\n",
      "   Age  class\n",
      "0   11      6\n",
      "1   13      8\n"
     ]
    }
   ],
   "source": [
    "# %load panda15.py\n",
    "import pandas as pd\n",
    "data={'Name': ['ud','bh','av'],\n",
    "      'Age' : [11,13,15],\n",
    "      'class': [6,8,10],\n",
    "      'subject':['math','science','sst']}\n",
    "df=pd.DataFrame(data)\n",
    "print(df)\n",
    "df1=df[['Name','subject']]\n",
    "print(df1)\n",
    "df2=df[df.columns[1:4]]\n",
    "print(df2)\n",
    "df3=df.loc[1:2,['Name','Age']]\n",
    "print(df3)\n",
    "df4=df.loc[1:2]\n",
    "print(df4)\n",
    "df5=df.iloc[:,1:2]\n",
    "print(df5)\n",
    "df6=df.iloc[0:2,1:3]\n",
    "print(df6)\n"
   ]
  },
  {
   "cell_type": "code",
   "execution_count": 28,
   "id": "c0fbc866-70ce-487c-9d18-3a909b7f08cf",
   "metadata": {},
   "outputs": [
    {
     "name": "stdout",
     "output_type": "stream",
     "text": [
      "                         Team  Number Position   Age Height  Weight  \\\n",
      "Name                                                                  \n",
      "Avery Bradley  Boston Celtics     0.0       PG  25.0    6-2   180.0   \n",
      "Jae Crowder    Boston Celtics    99.0       SF  25.0    6-6   235.0   \n",
      "John Holland   Boston Celtics    30.0       SG  27.0    6-5   205.0   \n",
      "R.J. Hunter    Boston Celtics    28.0       SG  22.0    6-5   185.0   \n",
      "Jonas Jerebko  Boston Celtics     8.0       PF  29.0   6-10   231.0   \n",
      "...                       ...     ...      ...   ...    ...     ...   \n",
      "Shelvin Mack        Utah Jazz     8.0       PG  26.0    6-3   203.0   \n",
      "Raul Neto           Utah Jazz    25.0       PG  24.0    6-1   179.0   \n",
      "Tibor Pleiss        Utah Jazz    21.0        C  26.0    7-3   256.0   \n",
      "Jeff Withey         Utah Jazz    24.0        C  26.0    7-0   231.0   \n",
      "NaN                       NaN     NaN      NaN   NaN    NaN     NaN   \n",
      "\n",
      "                         College     Salary  \n",
      "Name                                         \n",
      "Avery Bradley              Texas  7730337.0  \n",
      "Jae Crowder            Marquette  6796117.0  \n",
      "John Holland   Boston University        NaN  \n",
      "R.J. Hunter        Georgia State  1148640.0  \n",
      "Jonas Jerebko                NaN  5000000.0  \n",
      "...                          ...        ...  \n",
      "Shelvin Mack              Butler  2433333.0  \n",
      "Raul Neto                    NaN   900000.0  \n",
      "Tibor Pleiss                 NaN  2900000.0  \n",
      "Jeff Withey               Kansas   947276.0  \n",
      "NaN                          NaN        NaN  \n",
      "\n",
      "[458 rows x 8 columns]\n",
      "               Number Position   Age Height            College     Salary\n",
      "Name                                                                     \n",
      "Avery Bradley     0.0       PG  25.0    6-2              Texas  7730337.0\n",
      "Jae Crowder      99.0       SF  25.0    6-6          Marquette  6796117.0\n",
      "John Holland     30.0       SG  27.0    6-5  Boston University        NaN\n",
      "R.J. Hunter      28.0       SG  22.0    6-5      Georgia State  1148640.0\n",
      "Jonas Jerebko     8.0       PF  29.0   6-10                NaN  5000000.0\n",
      "...               ...      ...   ...    ...                ...        ...\n",
      "Shelvin Mack      8.0       PG  26.0    6-3             Butler  2433333.0\n",
      "Raul Neto        25.0       PG  24.0    6-1                NaN   900000.0\n",
      "Tibor Pleiss     21.0        C  26.0    7-3                NaN  2900000.0\n",
      "Jeff Withey      24.0        C  26.0    7-0             Kansas   947276.0\n",
      "NaN               NaN      NaN   NaN    NaN                NaN        NaN\n",
      "\n",
      "[458 rows x 6 columns]\n"
     ]
    }
   ],
   "source": [
    "# %load panda16.py\n",
    "import pandas as pd\n",
    "data=pd.read_csv(\"nba.csv\",index_col=\"Name\")\n",
    "print(data)\n",
    "data.drop([\"Team\",\"Weight\"],axis=1,inplace=True)\n",
    "print(data)\n"
   ]
  },
  {
   "cell_type": "code",
   "execution_count": 29,
   "id": "76db292d-64c6-4171-b71e-5b66fa074ce6",
   "metadata": {},
   "outputs": [
    {
     "name": "stdout",
     "output_type": "stream",
     "text": [
      "Team        Boston Celtics\n",
      "Number                 0.0\n",
      "Position                PG\n",
      "Age                   25.0\n",
      "Height                 6-2\n",
      "Weight               180.0\n",
      "College              Texas\n",
      "Salary           7730337.0\n",
      "Name: Avery Bradley, dtype: object \n",
      "\n",
      "\n",
      " Team        Boston Celtics\n",
      "Number                28.0\n",
      "Position                SG\n",
      "Age                   22.0\n",
      "Height                 6-5\n",
      "Weight               185.0\n",
      "College      Georgia State\n",
      "Salary           1148640.0\n",
      "Name: R.J. Hunter, dtype: object\n",
      "<class 'pandas.core.frame.DataFrame'>\n",
      "                         Team  Number Position   Age Height  Weight  \\\n",
      "Name                                                                  \n",
      "Avery Bradley  Boston Celtics     0.0       PG  25.0    6-2   180.0   \n",
      "R.J. Hunter    Boston Celtics    28.0       SG  22.0    6-5   185.0   \n",
      "\n",
      "                     College     Salary  \n",
      "Name                                     \n",
      "Avery Bradley          Texas  7730337.0  \n",
      "R.J. Hunter    Georgia State  1148640.0  \n"
     ]
    }
   ],
   "source": [
    "# %load panda17.py\n",
    "import pandas as pd\n",
    "data=pd.read_csv(\"nba.csv\",index_col=\"Name\")\n",
    "first=data.loc[\"Avery Bradley\"]\n",
    "second=data.loc[\"R.J. Hunter\"]\n",
    "print(first,\"\\n\\n\\n\", second)\n",
    "rows=data.loc[[\"Avery Bradley\",\"R.J. Hunter\"]]\n",
    "print(type(rows))\n",
    "print(rows)\n",
    "\n"
   ]
  },
  {
   "cell_type": "code",
   "execution_count": 30,
   "id": "ae3df492-e9e9-4728-a1d4-7fa125b4a651",
   "metadata": {},
   "outputs": [
    {
     "name": "stdout",
     "output_type": "stream",
     "text": [
      "<class 'pandas.core.frame.DataFrame'>\n",
      "                     Name  Number Position   Age Height  Weight       College  \\\n",
      "Team                                                                            \n",
      "Utah Jazz   Trevor Booker    33.0       PF  28.0    6-8   228.0       Clemson   \n",
      "Utah Jazz      Trey Burke     3.0       PG  23.0    6-1   191.0      Michigan   \n",
      "Utah Jazz      Alec Burks    10.0       SG  24.0    6-6   214.0      Colorado   \n",
      "Utah Jazz      Dante Exum    11.0       PG  20.0    6-6   190.0           NaN   \n",
      "Utah Jazz  Derrick Favors    15.0       PF  24.0   6-10   265.0  Georgia Tech   \n",
      "Utah Jazz     Rudy Gobert    27.0        C  23.0    7-1   245.0           NaN   \n",
      "Utah Jazz  Gordon Hayward    20.0       SF  26.0    6-8   226.0        Butler   \n",
      "Utah Jazz     Rodney Hood     5.0       SG  23.0    6-8   206.0          Duke   \n",
      "Utah Jazz      Joe Ingles     2.0       SF  28.0    6-8   226.0           NaN   \n",
      "Utah Jazz   Chris Johnson    23.0       SF  26.0    6-6   206.0        Dayton   \n",
      "Utah Jazz      Trey Lyles    41.0       PF  20.0   6-10   234.0      Kentucky   \n",
      "Utah Jazz    Shelvin Mack     8.0       PG  26.0    6-3   203.0        Butler   \n",
      "Utah Jazz       Raul Neto    25.0       PG  24.0    6-1   179.0           NaN   \n",
      "Utah Jazz    Tibor Pleiss    21.0        C  26.0    7-3   256.0           NaN   \n",
      "Utah Jazz     Jeff Withey    24.0        C  26.0    7-0   231.0        Kansas   \n",
      "\n",
      "               Salary  \n",
      "Team                   \n",
      "Utah Jazz   4775000.0  \n",
      "Utah Jazz   2658240.0  \n",
      "Utah Jazz   9463484.0  \n",
      "Utah Jazz   3777720.0  \n",
      "Utah Jazz  12000000.0  \n",
      "Utah Jazz   1175880.0  \n",
      "Utah Jazz  15409570.0  \n",
      "Utah Jazz   1348440.0  \n",
      "Utah Jazz   2050000.0  \n",
      "Utah Jazz    981348.0  \n",
      "Utah Jazz   2239800.0  \n",
      "Utah Jazz   2433333.0  \n",
      "Utah Jazz    900000.0  \n",
      "Utah Jazz   2900000.0  \n",
      "Utah Jazz    947276.0  \n"
     ]
    }
   ],
   "source": [
    "# %load panda18.py\n",
    "import pandas as pd\n",
    "data=pd.read_csv(\"nba.csv\",index_col=\"Team\")\n",
    "rows=data.loc[\"Utah Jazz\"]\n",
    "print(type(rows))\n",
    "print(rows)\n"
   ]
  },
  {
   "cell_type": "code",
   "execution_count": 31,
   "id": "87db9b41-8f67-41b0-98a8-85ed914e95bc",
   "metadata": {},
   "outputs": [
    {
     "name": "stdout",
     "output_type": "stream",
     "text": [
      "<class 'pandas.core.frame.DataFrame'>\n",
      "                           Team  Number Position   Age Height  Weight  \\\n",
      "Name                                                                    \n",
      "Avery Bradley    Boston Celtics     0.0       PG  25.0    6-2   180.0   \n",
      "Jae Crowder      Boston Celtics    99.0       SF  25.0    6-6   235.0   \n",
      "John Holland     Boston Celtics    30.0       SG  27.0    6-5   205.0   \n",
      "R.J. Hunter      Boston Celtics    28.0       SG  22.0    6-5   185.0   \n",
      "Jonas Jerebko    Boston Celtics     8.0       PF  29.0   6-10   231.0   \n",
      "Amir Johnson     Boston Celtics    90.0       PF  29.0    6-9   240.0   \n",
      "Jordan Mickey    Boston Celtics    55.0       PF  21.0    6-8   235.0   \n",
      "Kelly Olynyk     Boston Celtics    41.0        C  25.0    7-0   238.0   \n",
      "Terry Rozier     Boston Celtics    12.0       PG  22.0    6-2   190.0   \n",
      "Marcus Smart     Boston Celtics    36.0       PG  22.0    6-4   220.0   \n",
      "Jared Sullinger  Boston Celtics     7.0        C  24.0    6-9   260.0   \n",
      "Isaiah Thomas    Boston Celtics     4.0       PG  27.0    5-9   185.0   \n",
      "\n",
      "                           College      Salary  \n",
      "Name                                            \n",
      "Avery Bradley                Texas   7730337.0  \n",
      "Jae Crowder              Marquette   6796117.0  \n",
      "John Holland     Boston University         NaN  \n",
      "R.J. Hunter          Georgia State   1148640.0  \n",
      "Jonas Jerebko                  NaN   5000000.0  \n",
      "Amir Johnson                   NaN  12000000.0  \n",
      "Jordan Mickey                  LSU   1170960.0  \n",
      "Kelly Olynyk               Gonzaga   2165160.0  \n",
      "Terry Rozier            Louisville   1824360.0  \n",
      "Marcus Smart        Oklahoma State   3431040.0  \n",
      "Jared Sullinger         Ohio State   2569260.0  \n",
      "Isaiah Thomas           Washington   6912869.0  \n"
     ]
    }
   ],
   "source": [
    "# %load panda19.py\n",
    "import pandas as pd\n",
    "data=pd.read_csv(\"nba.csv\",index_col=\"Name\")\n",
    "rows=data.loc[\"Avery Bradley\": \"Isaiah Thomas\"]\n",
    "print(type(rows))\n",
    "print(rows)\n"
   ]
  },
  {
   "cell_type": "code",
   "execution_count": 32,
   "id": "0da04919-abd8-492c-a9f1-9f061ccb230f",
   "metadata": {},
   "outputs": [
    {
     "name": "stdout",
     "output_type": "stream",
     "text": [
      "row 1\n",
      " Name           R.J. Hunter\n",
      "Team        Boston Celtics\n",
      "Number                28.0\n",
      "Position                SG\n",
      "Age                   22.0\n",
      "Height                 6-5\n",
      "Weight               185.0\n",
      "College      Georgia State\n",
      "Salary           1148640.0\n",
      "Name: 3, dtype: object\n",
      "Name           R.J. Hunter\n",
      "Team        Boston Celtics\n",
      "Number                28.0\n",
      "Position                SG\n",
      "Age                   22.0\n",
      "Height                 6-5\n",
      "Weight               185.0\n",
      "College      Georgia State\n",
      "Salary           1148640.0\n",
      "Name: 3, dtype: object\n",
      "            Name            Team  Number Position   Age Height  Weight  \\\n",
      "4  Jonas Jerebko  Boston Celtics     8.0       PF  29.0   6-10   231.0   \n",
      "5   Amir Johnson  Boston Celtics    90.0       PF  29.0    6-9   240.0   \n",
      "6  Jordan Mickey  Boston Celtics    55.0       PF  21.0    6-8   235.0   \n",
      "7   Kelly Olynyk  Boston Celtics    41.0        C  25.0    7-0   238.0   \n",
      "\n",
      "   College      Salary  \n",
      "4      NaN   5000000.0  \n",
      "5      NaN  12000000.0  \n",
      "6      LSU   1170960.0  \n",
      "7  Gonzaga   2165160.0  \n",
      "            Name            Team  Number Position   Age Height  Weight  \\\n",
      "4  Jonas Jerebko  Boston Celtics     8.0       PF  29.0   6-10   231.0   \n",
      "5   Amir Johnson  Boston Celtics    90.0       PF  29.0    6-9   240.0   \n",
      "6  Jordan Mickey  Boston Celtics    55.0       PF  21.0    6-8   235.0   \n",
      "7   Kelly Olynyk  Boston Celtics    41.0        C  25.0    7-0   238.0   \n",
      "\n",
      "   College      Salary  \n",
      "4      NaN   5000000.0  \n",
      "5      NaN  12000000.0  \n",
      "6      LSU   1170960.0  \n",
      "7  Gonzaga   2165160.0  \n"
     ]
    }
   ],
   "source": [
    "# %load panda20.py\n",
    "import pandas as pd\n",
    "data=pd.read_csv(\"nba.csv\")\n",
    "row1=data.iloc[3]\n",
    "row2=data.loc[3]\n",
    "row1==row2\n",
    "print(\"row 1\\n\",row1)\n",
    "print(row2)\n",
    "row2=data.iloc[[4,5,6,7]]\n",
    "row3=data.iloc[4:8]\n",
    "print(row2)\n",
    "print(row3)\n",
    "\n"
   ]
  },
  {
   "cell_type": "code",
   "execution_count": 33,
   "id": "f91b1aec-de5f-415b-ac17-29acf9a404fb",
   "metadata": {},
   "outputs": [
    {
     "name": "stdout",
     "output_type": "stream",
     "text": [
      "Original DataFrame:\n",
      "       Age  Salary\n",
      "Name              \n",
      "Geek1   25   50000\n",
      "Geek2   30   60000\n",
      "Geek3   22   45000\n",
      "Geek4   35   70000\n",
      "Geek5   28   55000\n",
      "\n",
      "Extracted Row (Geek1):\n",
      "Age          25\n",
      "Salary    50000\n",
      "Name: Geek1, dtype: int64\n",
      "\n",
      "Extracted Rows (Geek2 to Geek3):\n",
      "       Age  Salary\n",
      "Name              \n",
      "Geek2   30   60000\n",
      "Geek3   22   45000\n"
     ]
    }
   ],
   "source": [
    "# %load panda21.py\n",
    "import pandas as pd\n",
    "data = pd.DataFrame({\n",
    "    'Name': ['Geek1', 'Geek2', 'Geek3', 'Geek4', 'Geek5'],\n",
    "    'Age': [25, 30, 22, 35, 28],\n",
    "    'Salary': [50000, 60000, 45000, 70000, 55000]\n",
    "})\n",
    "data.set_index('Name', inplace=True)\n",
    "print(\"Original DataFrame:\")\n",
    "print(data)\n",
    "row_alice = data.iloc[0, :]\n",
    "print(\"\\nExtracted Row (Geek1):\")\n",
    "print(row_alice)\n",
    "rows_geek2_to_geek3 = data.iloc[1:3, :]\n",
    "print(\"\\nExtracted Rows (Geek2 to Geek3):\")\n",
    "print(rows_geek2_to_geek3)\n"
   ]
  },
  {
   "cell_type": "code",
   "execution_count": 34,
   "id": "ba345c34-33b9-490c-9bf6-1c9a893ed238",
   "metadata": {},
   "outputs": [
    {
     "name": "stdout",
     "output_type": "stream",
     "text": [
      "DataSet\n",
      "            Name            Team  Number Position   Age Height  Weight  \\\n",
      "0  Avery Bradley  Boston Celtics     0.0       PG  25.0    6-2   180.0   \n",
      "1    Jae Crowder  Boston Celtics    99.0       SF  25.0    6-6   235.0   \n",
      "2   John Holland  Boston Celtics    30.0       SG  27.0    6-5   205.0   \n",
      "3    R.J. Hunter  Boston Celtics    28.0       SG  22.0    6-5   185.0   \n",
      "4  Jonas Jerebko  Boston Celtics     8.0       PF  29.0   6-10   231.0   \n",
      "\n",
      "             College     Salary  \n",
      "0              Texas  7730337.0  \n",
      "1          Marquette  6796117.0  \n",
      "2  Boston University        NaN  \n",
      "3      Georgia State  1148640.0  \n",
      "4                NaN  5000000.0  \n",
      "0    25.0\n",
      "1    25.0\n",
      "2    27.0\n",
      "3    22.0\n",
      "4    29.0\n",
      "Name: Age, dtype: float64\n"
     ]
    }
   ],
   "source": [
    "# %load panda22.py\n",
    "import pandas as pd\n",
    "data=pd.read_csv(\"nba.csv\")\n",
    "print(\"DataSet\")\n",
    "print(data.head(5))\n",
    "first=data[\"Age\"]\n",
    "print(first.head())\n",
    "\n"
   ]
  },
  {
   "cell_type": "code",
   "execution_count": 35,
   "id": "b0cacc3c-6f58-469d-bd9c-c5e83ae2b038",
   "metadata": {},
   "outputs": [
    {
     "name": "stdout",
     "output_type": "stream",
     "text": [
      "                         Team  Number Position\n",
      "Name                                          \n",
      "Avery Bradley  Boston Celtics     0.0       PG\n",
      "R.J. Hunter    Boston Celtics    28.0       SG\n",
      "Boston Celtics\n"
     ]
    }
   ],
   "source": [
    "# %load panda23.py\n",
    "import pandas as pd\n",
    "data=pd.read_csv(\"nba.csv\",index_col=\"Name\")\n",
    "selection=data.loc[[\"Avery Bradley\", \"R.J. Hunter\"],[\"Team\", \"Number\", \"Position\"]]\n",
    "print(selection)\n",
    "value=data.at[\"Avery Bradley\",\"Team\"]\n",
    "print(value)\n"
   ]
  },
  {
   "cell_type": "code",
   "execution_count": 36,
   "id": "88cf05fb-4469-4e6a-851d-f676245d8bf2",
   "metadata": {},
   "outputs": [
    {
     "name": "stdout",
     "output_type": "stream",
     "text": [
      "      Name  class  score\n",
      "True    ud      1     90\n",
      "False   bh      2     80\n",
      "True    av      3     70\n",
      "     Name  class  score\n",
      "True   ud      1     90\n",
      "True   av      3     70\n",
      "Name     av\n",
      "class     3\n",
      "score    70\n",
      "Name: True, dtype: object\n"
     ]
    }
   ],
   "source": [
    "# %load panda24.py\n",
    "import pandas as pd\n",
    "dict={'Name':[\"ud\",\"bh\",\"av\"],\n",
    "      'class':[1,2,3],\n",
    "      'score':[90,80,70]}\n",
    "df=pd.DataFrame(dict,index=[True,False,True])\n",
    "print(df)\n",
    "print(df.loc[True])\n",
    "print(df.iloc[2])\n"
   ]
  },
  {
   "cell_type": "code",
   "execution_count": 37,
   "id": "a18e8353-240f-43a0-833a-3ff70e9d9372",
   "metadata": {},
   "outputs": [
    {
     "name": "stdout",
     "output_type": "stream",
     "text": [
      "     name  degree  score\n",
      "0  aparna     MBA     90\n",
      "2  sudhir  M.Tech     80\n"
     ]
    }
   ],
   "source": [
    "# %load panda25.py\n",
    "import pandas as pd\n",
    " \n",
    "dict = {'name':[\"aparna\", \"pankaj\", \"sudhir\", \"Geeku\"],\n",
    "        'degree': [\"MBA\", \"BCA\", \"M.Tech\", \"MBA\"],\n",
    "        'score':[90, 40, 80, 98]}\n",
    " \n",
    "df = pd.DataFrame(dict, index = [0, 1, 2, 3])\n",
    " \n",
    "\n",
    "\n",
    "print(df[[True, False, True, False]])#sirf true vale hi show honge \n"
   ]
  },
  {
   "cell_type": "code",
   "execution_count": 38,
   "id": "85490a71-6a9d-4957-8a3b-2c5384a4c9ac",
   "metadata": {},
   "outputs": [
    {
     "name": "stdout",
     "output_type": "stream",
     "text": [
      "Name\n",
      "Avery Bradley    False\n",
      "Jae Crowder      False\n",
      "John Holland      True\n",
      "R.J. Hunter      False\n",
      "Jonas Jerebko     True\n",
      "                 ...  \n",
      "Shelvin Mack      True\n",
      "Raul Neto        False\n",
      "Tibor Pleiss      True\n",
      "Jeff Withey       True\n",
      "NaN              False\n",
      "Name: Age, Length: 458, dtype: bool\n"
     ]
    }
   ],
   "source": [
    "# %load panda26.py\n",
    "import pandas as pd\n",
    "data=pd.read_csv(\"nba.csv\",index_col=\"Name\")\n",
    "print(data['Age']>25)\n"
   ]
  },
  {
   "cell_type": "code",
   "execution_count": 39,
   "id": "ce995d8a-374d-439e-8fa0-1e1183094ac3",
   "metadata": {},
   "outputs": [
    {
     "name": "stdout",
     "output_type": "stream",
     "text": [
      "     name degree  score\n",
      "0  aparna    BCA     90\n",
      "1  pankaj    BCA     40\n"
     ]
    }
   ],
   "source": [
    "# %load panda27.py\n",
    "import pandas as pd\n",
    " \n",
    "# dictionary of lists\n",
    "dict = {'name':[\"aparna\", \"pankaj\", \"sudhir\", \"Geeku\"],\n",
    "        'degree': [\"BCA\", \"BCA\", \"M.Tech\", \"BCA\"],\n",
    "        'score':[90, 40, 80, 98]}\n",
    " \n",
    "\n",
    "df = pd.DataFrame(dict, index = [0, 1, 2, 3])\n",
    "\n",
    "mask = df.index <=1 \n",
    "\n",
    "print(df[mask])\n"
   ]
  },
  {
   "cell_type": "code",
   "execution_count": null,
   "id": "cce31afa-766b-4475-81c4-64b4e92ba975",
   "metadata": {},
   "outputs": [],
   "source": []
  }
 ],
 "metadata": {
  "kernelspec": {
   "display_name": "Python 3 (ipykernel)",
   "language": "python",
   "name": "python3"
  },
  "language_info": {
   "codemirror_mode": {
    "name": "ipython",
    "version": 3
   },
   "file_extension": ".py",
   "mimetype": "text/x-python",
   "name": "python",
   "nbconvert_exporter": "python",
   "pygments_lexer": "ipython3",
   "version": "3.13.3"
  }
 },
 "nbformat": 4,
 "nbformat_minor": 5
}
