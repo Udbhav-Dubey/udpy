{
 "cells": [
  {
   "cell_type": "code",
   "execution_count": 2,
   "id": "5ea5f659-e89e-4006-8327-7a7bec517253",
   "metadata": {},
   "outputs": [
    {
     "ename": "AttributeError",
     "evalue": "module 'numpy' has no attribute 'fromrecords'",
     "output_type": "error",
     "traceback": [
      "\u001b[31m---------------------------------------------------------------------------\u001b[39m",
      "\u001b[31mAttributeError\u001b[39m                            Traceback (most recent call last)",
      "\u001b[36mCell\u001b[39m\u001b[36m \u001b[39m\u001b[32mIn[2]\u001b[39m\u001b[32m, line 5\u001b[39m\n\u001b[32m      3\u001b[39m records=[(\u001b[32m1\u001b[39m,\u001b[33m'\u001b[39m\u001b[33malice\u001b[39m\u001b[33m'\u001b[39m,\u001b[32m25.5\u001b[39m),(\u001b[32m2\u001b[39m,\u001b[33m'\u001b[39m\u001b[33mbob\u001b[39m\u001b[33m'\u001b[39m,\u001b[32m3.33\u001b[39m),(\u001b[32m3\u001b[39m,\u001b[33m'\u001b[39m\u001b[33mdowni\u001b[39m\u001b[33m'\u001b[39m,\u001b[32m44.3\u001b[39m)]\n\u001b[32m      4\u001b[39m dtyped=[(\u001b[33m'\u001b[39m\u001b[33mid\u001b[39m\u001b[33m'\u001b[39m,\u001b[33m'\u001b[39m\u001b[33mi4\u001b[39m\u001b[33m'\u001b[39m),(\u001b[33m'\u001b[39m\u001b[33mname\u001b[39m\u001b[33m'\u001b[39m,\u001b[33m'\u001b[39m\u001b[33mU10\u001b[39m\u001b[33m'\u001b[39m),(\u001b[33m'\u001b[39m\u001b[33mage\u001b[39m\u001b[33m'\u001b[39m,\u001b[33m'\u001b[39m\u001b[33mf4\u001b[39m\u001b[33m'\u001b[39m)]\n\u001b[32m----> \u001b[39m\u001b[32m5\u001b[39m structured_array=\u001b[43mnp\u001b[49m\u001b[43m.\u001b[49m\u001b[43mfromrecords\u001b[49m(records,dtype=dtyped)\n\u001b[32m      6\u001b[39m \u001b[38;5;28mprint\u001b[39m(structured_array)\n",
      "\u001b[36mFile \u001b[39m\u001b[32m~/.venvs/nvim/lib/python3.13/site-packages/numpy/__init__.py:795\u001b[39m, in \u001b[36m__getattr__\u001b[39m\u001b[34m(attr)\u001b[39m\n\u001b[32m    792\u001b[39m     \u001b[38;5;28;01mimport\u001b[39;00m\u001b[38;5;250m \u001b[39m\u001b[34;01mnumpy\u001b[39;00m\u001b[34;01m.\u001b[39;00m\u001b[34;01mchar\u001b[39;00m\u001b[38;5;250m \u001b[39m\u001b[38;5;28;01mas\u001b[39;00m\u001b[38;5;250m \u001b[39m\u001b[34;01mchar\u001b[39;00m\n\u001b[32m    793\u001b[39m     \u001b[38;5;28;01mreturn\u001b[39;00m char.chararray\n\u001b[32m--> \u001b[39m\u001b[32m795\u001b[39m \u001b[38;5;28;01mraise\u001b[39;00m \u001b[38;5;167;01mAttributeError\u001b[39;00m(\u001b[33mf\u001b[39m\u001b[33m\"\u001b[39m\u001b[33mmodule \u001b[39m\u001b[38;5;132;01m{\u001b[39;00m\u001b[34m__name__\u001b[39m\u001b[38;5;132;01m!r}\u001b[39;00m\u001b[33m has no attribute \u001b[39m\u001b[38;5;132;01m{\u001b[39;00mattr\u001b[38;5;132;01m!r}\u001b[39;00m\u001b[33m\"\u001b[39m)\n",
      "\u001b[31mAttributeError\u001b[39m: module 'numpy' has no attribute 'fromrecords'"
     ]
    }
   ],
   "source": [
    "# %load numpy14.py\n",
    "import numpy as np\n",
    "records=[(1,'alice',25.5),(2,'bob',3.33),(3,'downi',44.3)]\n",
    "dtyped=[('id','i4'),('name','U10'),('age','f4')]\n",
    "structured_array=np.fromrecords(records,dtype=dtyped)\n",
    "print(structured_array)\n"
   ]
  },
  {
   "cell_type": "code",
   "execution_count": 3,
   "id": "0a0a5ebf-b78f-4586-a6fd-1959e816e8a2",
   "metadata": {},
   "outputs": [
    {
     "name": "stdout",
     "output_type": "stream",
     "text": [
      "2.3.0\n",
      "False\n"
     ]
    }
   ],
   "source": [
    "import numpy as np\n",
    "print(np.__version__)\n",
    "print(hasattr(np, 'fromrecords'))\n"
   ]
  },
  {
   "cell_type": "code",
   "execution_count": null,
   "id": "7eceee13-be66-46e5-9828-c2f8e4c2b7c6",
   "metadata": {},
   "outputs": [],
   "source": []
  }
 ],
 "metadata": {
  "kernelspec": {
   "display_name": "Python 3 (ipykernel)",
   "language": "python",
   "name": "python3"
  },
  "language_info": {
   "codemirror_mode": {
    "name": "ipython",
    "version": 3
   },
   "file_extension": ".py",
   "mimetype": "text/x-python",
   "name": "python",
   "nbconvert_exporter": "python",
   "pygments_lexer": "ipython3",
   "version": "3.13.5"
  }
 },
 "nbformat": 4,
 "nbformat_minor": 5
}
