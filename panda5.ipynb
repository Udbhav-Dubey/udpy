{
 "cells": [
  {
   "cell_type": "code",
   "execution_count": 1,
   "id": "d49ed4c0-e54c-46dd-a781-608da853ecd6",
   "metadata": {},
   "outputs": [],
   "source": [
    "# %load panda39\n",
    "import pandas as pd\n",
    "import numpy as np\n",
    "a = pd.Index(['apple', np.nan, 'banana', np.nan])\n",
    "print(a.value_counts(dropna=False))\n",
    "\n",
    "b = pd.Index([5, 15, 25, 10])\n",
    "print(b.value_counts(bins=2))\n"
   ]
  },
  {
   "cell_type": "code",
   "execution_count": 7,
   "id": "dcbfa7ce-c194-4807-9144-652e9290da55",
   "metadata": {},
   "outputs": [],
   "source": [
    "# %load panda41.py\n",
    "import pandas as pd\n",
    "values_list = [[15, 2.5, 100], [20, 4.5, 50], [25, 5.2, 80],\n",
    "               [45, 5.8, 48], [40, 6.3, 70], [41, 6.4, 90],\n",
    "               [51, 2.3, 111]]\n",
    "df=pd.DataFrame(values_list,columns=['Field_1','Field_2','Field_3'])\n",
    "print(df)\n",
    "df=df.assign(Product=lambda x :(x['Field_1']*x['Field_2']*x['Field_3']))\n",
    "print(df)\n"
   ]
  },
  {
   "cell_type": "code",
   "execution_count": 8,
   "id": "67645f74-1ee9-49fd-933b-84b2b557ba91",
   "metadata": {},
   "outputs": [],
   "source": [
    "# %load panda42.py\n",
    "import pandas as pd\n",
    "import numpy as np\n",
    "values_list = [[15, 2.5, 100], [20, 4.5, 50], [25, 5.2, 80],\n",
    "               [45, 5.8, 48], [40, 6.3, 70], [41, 6.4, 90], \n",
    "               [51, 2.3, 111]]\n",
    "df=pd.DataFrame(values_list,columns=['Field_1','Field_2','Field_3'],\n",
    "                index=['a','b','c','d','e','f','g'])\n",
    "df=df.apply(lambda x:np.square(x) if x.name=='d' else x ,axis=1)\n",
    "print(df)\n",
    "df=df.apply(lambda x:np.square(x) if x.name in ['a','e','g'] else x ,axis=1)\n",
    "print(df)\n"
   ]
  },
  {
   "cell_type": "code",
   "execution_count": 9,
   "id": "86c35921-36ef-4ed0-86d7-9d25fc572e9b",
   "metadata": {},
   "outputs": [],
   "source": [
    "# %load panda43.py\n",
    "import pandas as pd\n",
    "import numpy as np\n",
    "values_list = [[1.5, 2.5, 10.0], [2.0, 4.5, 5.0], [2.5, 5.2, 8.0],\n",
    "               [4.5, 5.8, 4.8], [4.0, 6.3, 70], [4.1, 6.4, 9.0],\n",
    "               [5.1, 2.3, 11.1]]\n",
    "df=pd.DataFrame(values_list,columns=['Field_1','Field_2','Field_3'],index=['a','b','c','d','e','f','g'])\n",
    "print(df)\n",
    "df=df.apply(lambda x: np.square(x) if x.name in ['b','f']else x , axis=1)\n",
    "df=df.assign(Product = lambda x : (x['Field_1']*x['Field_2']*x['Field_3']))\n",
    "print(df)\n"
   ]
  },
  {
   "cell_type": "code",
   "execution_count": 10,
   "id": "02b389de-0d92-45d5-b10a-8dd075cfd579",
   "metadata": {},
   "outputs": [],
   "source": [
    "# %load panda44.py\n",
    "import pandas as pd\n",
    "data = {'Name': ['Pandas', 'Geeks', 'for', 'Geeks'],\n",
    "        'Height': [1, 2, 3, 4],\n",
    "        'Qualification': ['A', 'B', 'C', 'D']}\n",
    "df=pd.DataFrame(data,columns=['Name','Height','Qualification'])\n",
    "print(data)\n",
    "address=['HR','KA','PB','UP']\n",
    "df['address']=address\n",
    "print(df)\n",
    "df = df.assign(address_2 = ['NewYork', 'Chicago', 'Boston', 'Miami'])\n",
    "print(df)\n",
    "address_3 = {'Pandas': 'Delhi', 'Geeks': 'Bihar', \n",
    "                'for': 'Noida', 'Geeks_2': 'Ranchi'}\n",
    "df['address_3']=df['Name'].map(address_3)\n",
    "print(df)\n",
    "new_columns = {'Age': [21, 22, 23, 24], \n",
    "               'City': ['NY', 'LA', 'SF', 'DC']}\n",
    "df=df.assign(**new_columns)\n",
    "print(df)\n"
   ]
  },
  {
   "cell_type": "code",
   "execution_count": 11,
   "id": "1e1bc5d9-c5ea-4844-ac84-31bb7d054c2c",
   "metadata": {},
   "outputs": [],
   "source": [
    "# %load panda45.py\n",
    "import pandas as pd\n",
    "data = {'Name': ['Pandas', 'Geeks', 'for', 'Geeks'],\n",
    "        'Height': [1, 2, 3, 4],\n",
    "        'Qualification': ['A', 'B', 'C', 'D']}\n",
    "df=pd.DataFrame(data)\n",
    "df.insert(2,'Age',[21,23,25,27],True)\n",
    "print(df)\n",
    "df.loc[df['Height'] >= 3, 'Category'] = 'Tall'\n",
    "df.loc[df['Height'] < 3, 'Category'] = 'Short'\n",
    "print(df)\n"
   ]
  },
  {
   "cell_type": "code",
   "execution_count": 12,
   "id": "476a4b71-5c16-498d-b269-7a4b059a0d33",
   "metadata": {},
   "outputs": [],
   "source": [
    "# %load panda46.py\n",
    "import pandas as pd\n",
    "data=pd.read_csv(\"nba.csv\",index_col=\"Name\")\n",
    "print(data.head())\n",
    "data.drop([\"Avery Bradley\",\"John Holland\",\"R.J. Hunter\"],inplace=True)\n",
    "print(data)\n",
    "data.drop([\"Team\",\"Weight\"],axis=1,inplace=True)\n",
    "print(data)\n"
   ]
  },
  {
   "cell_type": "code",
   "execution_count": 13,
   "id": "7d7c47d1-cf27-4268-b83f-0381b5add06e",
   "metadata": {},
   "outputs": [],
   "source": [
    "# %load panda47.py\n",
    "import pandas as pd\n",
    "df = pd.DataFrame({'Weight':[45, 88, 56, 15, 71],\n",
    "                   'Name':['Sam', 'Andrea', 'Alex', 'Robin', 'Kia'],\n",
    "                   'Age':[14, 25, 55, 8, 21]})\n",
    "index_ = pd.date_range('2010-10-09 08:45', periods = 5, freq ='H')\n",
    "df.index=index_\n",
    "print(df)\n",
    "result=df.truncate(before='2010-10-09 09:45:00',after='2010-10-09 11:45:00')\n",
    "print(result)\n"
   ]
  },
  {
   "cell_type": "code",
   "execution_count": 14,
   "id": "da660d91-96a0-461a-a96d-b947310bbada",
   "metadata": {},
   "outputs": [],
   "source": [
    "# %load panda48.py\n",
    "import pandas as pd\n",
    "df=pd.DataFrame({\n",
    "                'a':[12,4,5,None,1],\n",
    "                'b':[7,2,54,3,None],\n",
    "                'c':[20,16,11,3,8],\n",
    "                'd':[14,3,None,2,6]})\n",
    "index_=['Row 1','Row 2','Row 3','Row 4','Row 5']\n",
    "df.index=index_\n",
    "print(df)\n",
    "result=df.truncate(before='Row 3',after='Row 4')\n",
    "\n",
    "print(result)\n"
   ]
  },
  {
   "cell_type": "code",
   "execution_count": 15,
   "id": "c3e7b448-a3ae-4ea3-970f-57051cbe2854",
   "metadata": {},
   "outputs": [
    {
     "ename": "ValueError",
     "evalue": "'panda 49.py' was not found in history, as a file, url, nor in the user namespace.",
     "output_type": "error",
     "traceback": [
      "\u001b[31m---------------------------------------------------------------------------\u001b[39m",
      "\u001b[31mSyntaxError\u001b[39m                               Traceback (most recent call last)",
      "\u001b[36mFile \u001b[39m\u001b[32m~/.venvs/nvim/lib/python3.13/site-packages/IPython/core/interactiveshell.py:4002\u001b[39m, in \u001b[36mInteractiveShell.find_user_code\u001b[39m\u001b[34m(self, target, raw, py_only, skip_encoding_cookie, search_ns)\u001b[39m\n\u001b[32m   4001\u001b[39m \u001b[38;5;28;01mtry\u001b[39;00m:                                              \u001b[38;5;66;03m# User namespace\u001b[39;00m\n\u001b[32m-> \u001b[39m\u001b[32m4002\u001b[39m     codeobj = \u001b[38;5;28;43meval\u001b[39;49m\u001b[43m(\u001b[49m\u001b[43mtarget\u001b[49m\u001b[43m,\u001b[49m\u001b[43m \u001b[49m\u001b[38;5;28;43mself\u001b[39;49m\u001b[43m.\u001b[49m\u001b[43muser_ns\u001b[49m\u001b[43m)\u001b[49m\n\u001b[32m   4003\u001b[39m \u001b[38;5;28;01mexcept\u001b[39;00m \u001b[38;5;167;01mException\u001b[39;00m \u001b[38;5;28;01mas\u001b[39;00m e:\n",
      "\u001b[31mSyntaxError\u001b[39m: invalid decimal literal (<string>, line 1)",
      "\nThe above exception was the direct cause of the following exception:\n",
      "\u001b[31mValueError\u001b[39m                                Traceback (most recent call last)",
      "\u001b[36mCell\u001b[39m\u001b[36m \u001b[39m\u001b[32mIn[15]\u001b[39m\u001b[32m, line 1\u001b[39m\n\u001b[32m----> \u001b[39m\u001b[32m1\u001b[39m \u001b[43mget_ipython\u001b[49m\u001b[43m(\u001b[49m\u001b[43m)\u001b[49m\u001b[43m.\u001b[49m\u001b[43mrun_line_magic\u001b[49m\u001b[43m(\u001b[49m\u001b[33;43m'\u001b[39;49m\u001b[33;43mload\u001b[39;49m\u001b[33;43m'\u001b[39;49m\u001b[43m,\u001b[49m\u001b[43m \u001b[49m\u001b[33;43m'\u001b[39;49m\u001b[33;43mpanda 49.py\u001b[39;49m\u001b[33;43m'\u001b[39;49m\u001b[43m)\u001b[49m\n",
      "\u001b[36mFile \u001b[39m\u001b[32m~/.venvs/nvim/lib/python3.13/site-packages/IPython/core/interactiveshell.py:2488\u001b[39m, in \u001b[36mInteractiveShell.run_line_magic\u001b[39m\u001b[34m(self, magic_name, line, _stack_depth)\u001b[39m\n\u001b[32m   2486\u001b[39m     kwargs[\u001b[33m'\u001b[39m\u001b[33mlocal_ns\u001b[39m\u001b[33m'\u001b[39m] = \u001b[38;5;28mself\u001b[39m.get_local_scope(stack_depth)\n\u001b[32m   2487\u001b[39m \u001b[38;5;28;01mwith\u001b[39;00m \u001b[38;5;28mself\u001b[39m.builtin_trap:\n\u001b[32m-> \u001b[39m\u001b[32m2488\u001b[39m     result = \u001b[43mfn\u001b[49m\u001b[43m(\u001b[49m\u001b[43m*\u001b[49m\u001b[43margs\u001b[49m\u001b[43m,\u001b[49m\u001b[43m \u001b[49m\u001b[43m*\u001b[49m\u001b[43m*\u001b[49m\u001b[43mkwargs\u001b[49m\u001b[43m)\u001b[49m\n\u001b[32m   2490\u001b[39m \u001b[38;5;66;03m# The code below prevents the output from being displayed\u001b[39;00m\n\u001b[32m   2491\u001b[39m \u001b[38;5;66;03m# when using magics with decorator @output_can_be_silenced\u001b[39;00m\n\u001b[32m   2492\u001b[39m \u001b[38;5;66;03m# when the last Python token in the expression is a ';'.\u001b[39;00m\n\u001b[32m   2493\u001b[39m \u001b[38;5;28;01mif\u001b[39;00m \u001b[38;5;28mgetattr\u001b[39m(fn, magic.MAGIC_OUTPUT_CAN_BE_SILENCED, \u001b[38;5;28;01mFalse\u001b[39;00m):\n",
      "\u001b[36mFile \u001b[39m\u001b[32m~/.venvs/nvim/lib/python3.13/site-packages/IPython/core/magics/code.py:361\u001b[39m, in \u001b[36mCodeMagics.load\u001b[39m\u001b[34m(self, arg_s)\u001b[39m\n\u001b[32m    359\u001b[39m opts,args = \u001b[38;5;28mself\u001b[39m.parse_options(arg_s,\u001b[33m'\u001b[39m\u001b[33myns:r:\u001b[39m\u001b[33m'\u001b[39m)\n\u001b[32m    360\u001b[39m search_ns = \u001b[33m'\u001b[39m\u001b[33mn\u001b[39m\u001b[33m'\u001b[39m \u001b[38;5;129;01min\u001b[39;00m opts\n\u001b[32m--> \u001b[39m\u001b[32m361\u001b[39m contents = \u001b[38;5;28;43mself\u001b[39;49m\u001b[43m.\u001b[49m\u001b[43mshell\u001b[49m\u001b[43m.\u001b[49m\u001b[43mfind_user_code\u001b[49m\u001b[43m(\u001b[49m\u001b[43margs\u001b[49m\u001b[43m,\u001b[49m\u001b[43m \u001b[49m\u001b[43msearch_ns\u001b[49m\u001b[43m=\u001b[49m\u001b[43msearch_ns\u001b[49m\u001b[43m)\u001b[49m\n\u001b[32m    363\u001b[39m \u001b[38;5;28;01mif\u001b[39;00m \u001b[33m'\u001b[39m\u001b[33ms\u001b[39m\u001b[33m'\u001b[39m \u001b[38;5;129;01min\u001b[39;00m opts:\n\u001b[32m    364\u001b[39m     \u001b[38;5;28;01mtry\u001b[39;00m:\n",
      "\u001b[36mFile \u001b[39m\u001b[32m~/.venvs/nvim/lib/python3.13/site-packages/IPython/core/interactiveshell.py:4004\u001b[39m, in \u001b[36mInteractiveShell.find_user_code\u001b[39m\u001b[34m(self, target, raw, py_only, skip_encoding_cookie, search_ns)\u001b[39m\n\u001b[32m   4002\u001b[39m     codeobj = \u001b[38;5;28meval\u001b[39m(target, \u001b[38;5;28mself\u001b[39m.user_ns)\n\u001b[32m   4003\u001b[39m \u001b[38;5;28;01mexcept\u001b[39;00m \u001b[38;5;167;01mException\u001b[39;00m \u001b[38;5;28;01mas\u001b[39;00m e:\n\u001b[32m-> \u001b[39m\u001b[32m4004\u001b[39m     \u001b[38;5;28;01mraise\u001b[39;00m \u001b[38;5;167;01mValueError\u001b[39;00m((\u001b[33m\"\u001b[39m\u001b[33m'\u001b[39m\u001b[38;5;132;01m%s\u001b[39;00m\u001b[33m'\u001b[39m\u001b[33m was not found in history, as a file, url, \u001b[39m\u001b[33m\"\u001b[39m\n\u001b[32m   4005\u001b[39m                         \u001b[33m\"\u001b[39m\u001b[33mnor in the user namespace.\u001b[39m\u001b[33m\"\u001b[39m) % target) \u001b[38;5;28;01mfrom\u001b[39;00m\u001b[38;5;250m \u001b[39m\u001b[34;01me\u001b[39;00m\n\u001b[32m   4007\u001b[39m \u001b[38;5;28;01mif\u001b[39;00m \u001b[38;5;28misinstance\u001b[39m(codeobj, \u001b[38;5;28mstr\u001b[39m):\n\u001b[32m   4008\u001b[39m     \u001b[38;5;28;01mreturn\u001b[39;00m codeobj\n",
      "\u001b[31mValueError\u001b[39m: 'panda 49.py' was not found in history, as a file, url, nor in the user namespace."
     ]
    }
   ],
   "source": [
    "%load panda 49.py"
   ]
  },
  {
   "cell_type": "code",
   "execution_count": 16,
   "id": "4074e5af-2bc0-4576-8a69-167d483f2b9e",
   "metadata": {},
   "outputs": [],
   "source": [
    "# %load panda50.py\n",
    "import pandas as pd\n",
    "sr = pd.Series([19.5, 16.8, 22.78, 20.124, 18.1002])\n",
    "print(sr)\n",
    "result=sr.truncate(before = 1, after = 3)\n",
    "print(result)\n"
   ]
  },
  {
   "cell_type": "code",
   "execution_count": 17,
   "id": "7cb0aac2-35d0-4398-a2d7-c7c31189158a",
   "metadata": {},
   "outputs": [],
   "source": [
    "# %load panda51.py\n",
    "import pandas as pd\n",
    "data=pd.read_csv(\"nba.csv\")\n",
    "print(data.head())\n",
    "data.sort_values(\"Name\",axis=0,ascending=True,inplace=True,na_position='last')\n",
    "print(data)\n",
    "\n"
   ]
  },
  {
   "cell_type": "code",
   "execution_count": null,
   "id": "be8f95e1-36ea-4b66-af6e-6bf8f0ddfbd8",
   "metadata": {},
   "outputs": [],
   "source": [
    "%load panda52.py"
   ]
  },
  {
   "cell_type": "code",
   "execution_count": null,
   "id": "b7a594d4-8c9e-458b-81a0-8893f2cc1dc5",
   "metadata": {},
   "outputs": [],
   "source": [
    "%load panda53.py"
   ]
  },
  {
   "cell_type": "code",
   "execution_count": null,
   "id": "701f2084-864f-4ff9-a1ea-3449de3d7e86",
   "metadata": {},
   "outputs": [],
   "source": [
    "%load panda54.py"
   ]
  },
  {
   "cell_type": "code",
   "execution_count": null,
   "id": "28179121-206d-42b8-9eff-5bbbe1e16bb7",
   "metadata": {},
   "outputs": [],
   "source": [
    "%load panda55.py"
   ]
  },
  {
   "cell_type": "code",
   "execution_count": null,
   "id": "a5c6af28-bcf8-4b1e-9c62-b4cc2004dbce",
   "metadata": {},
   "outputs": [],
   "source": [
    "%load panda56.py"
   ]
  },
  {
   "cell_type": "code",
   "execution_count": null,
   "id": "94882738-186e-4b1d-ba92-22be1690c4af",
   "metadata": {},
   "outputs": [],
   "source": [
    "%load panda57.py"
   ]
  },
  {
   "cell_type": "code",
   "execution_count": null,
   "id": "36f8f383-e6b3-4aeb-a406-afe806347ccd",
   "metadata": {},
   "outputs": [],
   "source": [
    "%load panda58.py"
   ]
  },
  {
   "cell_type": "code",
   "execution_count": null,
   "id": "60bfeb11-79c7-4feb-946e-0b344f5615b1",
   "metadata": {},
   "outputs": [],
   "source": [
    "%load panda59.py"
   ]
  },
  {
   "cell_type": "code",
   "execution_count": null,
   "id": "d81baf94-1295-4e49-a9bf-0783bb761df3",
   "metadata": {},
   "outputs": [],
   "source": [
    "%load panda"
   ]
  },
  {
   "cell_type": "code",
   "execution_count": null,
   "id": "d6db6acb-3fc7-4b30-a7b9-c3ecc2f50916",
   "metadata": {},
   "outputs": [],
   "source": []
  },
  {
   "cell_type": "code",
   "execution_count": null,
   "id": "05bd5bcf-006e-416b-b9bb-ca6e3ebf2a2d",
   "metadata": {},
   "outputs": [],
   "source": []
  },
  {
   "cell_type": "code",
   "execution_count": null,
   "id": "eaf2ce55-b4c3-48f8-8b4a-f61432f28a24",
   "metadata": {},
   "outputs": [],
   "source": []
  },
  {
   "cell_type": "code",
   "execution_count": null,
   "id": "8a2fafa3-2799-43b3-a8f9-01b8f6fb7eae",
   "metadata": {},
   "outputs": [],
   "source": []
  },
  {
   "cell_type": "code",
   "execution_count": null,
   "id": "9dd5b955-af5f-4b63-9046-a54582bdb469",
   "metadata": {},
   "outputs": [],
   "source": []
  },
  {
   "cell_type": "code",
   "execution_count": null,
   "id": "d57ff643-870a-4f39-b17c-dab7188c0023",
   "metadata": {},
   "outputs": [],
   "source": []
  },
  {
   "cell_type": "code",
   "execution_count": null,
   "id": "5e1bdf9a-3f60-416e-9a41-1259a017d542",
   "metadata": {},
   "outputs": [],
   "source": []
  },
  {
   "cell_type": "code",
   "execution_count": null,
   "id": "ec5ca774-8daf-47e6-9881-5dcf95f8b323",
   "metadata": {},
   "outputs": [],
   "source": []
  }
 ],
 "metadata": {
  "kernelspec": {
   "display_name": "Python 3 (ipykernel)",
   "language": "python",
   "name": "python3"
  },
  "language_info": {
   "codemirror_mode": {
    "name": "ipython",
    "version": 3
   },
   "file_extension": ".py",
   "mimetype": "text/x-python",
   "name": "python",
   "nbconvert_exporter": "python",
   "pygments_lexer": "ipython3",
   "version": "3.13.3"
  }
 },
 "nbformat": 4,
 "nbformat_minor": 5
}
