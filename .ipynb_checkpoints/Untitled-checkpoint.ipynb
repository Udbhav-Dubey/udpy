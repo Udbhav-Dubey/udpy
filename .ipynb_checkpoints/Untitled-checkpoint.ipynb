{
 "cells": [
  {
   "cell_type": "code",
   "execution_count": 1,
   "id": "b6c41bac-3038-4780-8dd4-867aa6b1aadb",
   "metadata": {},
   "outputs": [
    {
     "name": "stdout",
     "output_type": "stream",
     "text": [
      "hello world\n"
     ]
    }
   ],
   "source": [
    "print(\"panda 1\")"
   ]
  },
  {
   "cell_type": "code",
   "execution_count": 3,
   "id": "366275f7-e473-4e70-a726-c78e4a79465b",
   "metadata": {},
   "outputs": [
    {
     "name": "stdout",
     "output_type": "stream",
     "text": [
      "Empty DataFrame\n",
      "Columns: []\n",
      "Index: []\n",
      "                  0\n",
      "0               you\n",
      "1              were\n",
      "2                my\n",
      "3           brother\n",
      "4            anakin\n",
      "5          you were\n",
      "6             meant\n",
      "7  destroy the sith\n",
      "8     not join them\n"
     ]
    }
   ],
   "source": [
    "# %load panda1.py\n",
    "import pandas as pd\n",
    "df=pd.DataFrame()\n",
    "print(df)\n",
    "\n",
    "lst=[\"you\",\"were\",\"my\",\"brother\",\"anakin\",\"you were\",\"meant\",\"destroy the sith\",\"not join them\"]\n",
    "df1=pd.DataFrame(lst)\n",
    "print(df1)\n"
   ]
  },
  {
   "cell_type": "code",
   "execution_count": 4,
   "id": "b632fe07-950f-47e0-b6a8-bc0851ed4379",
   "metadata": {},
   "outputs": [
    {
     "name": "stdout",
     "output_type": "stream",
     "text": [
      "   A  B  C\n",
      "0  1  2  3\n",
      "1  4  5  6\n",
      "2  7  8  9\n"
     ]
    }
   ],
   "source": [
    "%run panda2.py\n"
   ]
  },
  {
   "cell_type": "code",
   "execution_count": 6,
   "id": "5480159e-0801-493b-852b-e612b81b7e74",
   "metadata": {},
   "outputs": [
    {
     "name": "stdout",
     "output_type": "stream",
     "text": [
      "       name       degree  score\n",
      "0       y2j    10th pass     90\n",
      "1       hbk  12 the pass     40\n",
      "2  the rock        btech     80\n",
      "3       hhh           ba     98\n"
     ]
    }
   ],
   "source": [
    "# %load panda3.py\n",
    "import pandas as pd\n",
    "dict={'name':[\"y2j\",\"hbk\",\"the rock\",\"hhh\"],\n",
    "      'degree':[\"10th pass\",\"12 the pass\",\"btech\",\"ba\"],\n",
    "      'score':[90,40,80,98]}\n",
    "df=pd.DataFrame(dict)\n",
    "print(df)\n"
   ]
  },
  {
   "cell_type": "code",
   "execution_count": 9,
   "id": "8a81f237-7036-4cda-8c2c-3f94b979a184",
   "metadata": {},
   "outputs": [
    {
     "name": "stdout",
     "output_type": "stream",
     "text": [
      "0      1\n",
      "1      2\n",
      "2      3\n",
      "3      4\n",
      "4      5\n",
      "5      6\n",
      "6      7\n",
      "7      8\n",
      "8      9\n",
      "9     10\n",
      "10    11\n",
      "11    12\n",
      "12    13\n",
      "dtype: int64\n",
      "element at index 3 :  4\n",
      "0    1\n",
      "2    3\n",
      "4    5\n",
      "6    7\n",
      "dtype: int64\n",
      "v\n"
     ]
    }
   ],
   "source": [
    "# %load panda4.py\n",
    "import pandas as pd\n",
    "data=[1,2,3,4,5,6,7,8,9,10,11,12,13]\n",
    "ser=pd.Series(data)\n",
    "print(ser)\n",
    "print(\"element at index 3 : \",ser[3])\n",
    "print(ser[:7:2])\n",
    "str=\"udbhav dubey\"\n",
    "strl=list(str)\n",
    "ser=pd.Series(strl,index=[10,11,12,13,14,15,16,17,18,19,20,21])\n",
    "print(ser[15])\n",
    "\n"
   ]
  },
  {
   "cell_type": "code",
   "execution_count": 10,
   "id": "e92ad5df-e7d3-44e1-aaca-a22ae22a1a50",
   "metadata": {},
   "outputs": [
    {
     "name": "stdout",
     "output_type": "stream",
     "text": [
      "      Name  Age   Department  Salary\n",
      "0    Alice   25           HR   50000\n",
      "1      Bob   30  Engineering   75000\n",
      "2  Charlie   35      Finance   65000\n",
      "3    David   40    Marketing   70000\n",
      "0      Alice\n",
      "1        Bob\n",
      "2    Charlie\n",
      "3      David\n",
      "Name: Name, dtype: object\n",
      "now using loc we do first 2 : \n",
      "0      Alice\n",
      "1        Bob\n",
      "2    Charlie\n",
      "Name: Name, dtype: object\n",
      "0    Alice\n",
      "1      Bob\n",
      "Name: Name, dtype: object\n"
     ]
    }
   ],
   "source": [
    "# %load panda5.py\n",
    "import pandas as pd\n",
    "df=pd.read_csv(\"pandacsv.csv\")\n",
    "print(df)\n",
    "ser=df['Name']\n",
    "print(ser)\n",
    "print(\"now using loc we do first 2 : \")\n",
    "print(ser.loc[0:2])\n",
    "print(df.iloc[0:2,0])\n"
   ]
  },
  {
   "cell_type": "code",
   "execution_count": 17,
   "id": "f949962d-3a7e-4331-b0a4-066426883ac1",
   "metadata": {},
   "outputs": [
    {
     "name": "stdout",
     "output_type": "stream",
     "text": [
      "A    5.0\n",
      "B    7.0\n",
      "C    NaN\n",
      "c    NaN\n",
      "dtype: float64\n",
      "0    1.0\n",
      "1    2.0\n",
      "2    3.0\n",
      "3    4.0\n",
      "dtype: float64\n"
     ]
    }
   ],
   "source": [
    "# %load panda6.py\n",
    "import pandas as pd\n",
    "ser1= pd.Series([1,2,3],index=['A','B','c'])\n",
    "ser2= pd.Series([4,5,6],index=['A','B','C'])\n",
    "df_sum=ser1.add(ser2)\n",
    "print(df_sum)\n",
    "\n",
    "ser=pd.Series([1,2,3,4])\n",
    "ser=ser.astype(float)\n",
    "print(ser)\n"
   ]
  },
  {
   "cell_type": "code",
   "execution_count": 18,
   "id": "4026b162-1385-40f6-ab9f-2df7ae7243f1",
   "metadata": {},
   "outputs": [
    {
     "name": "stdout",
     "output_type": "stream",
     "text": [
      "Series([], dtype: object)\n",
      "0    g\n",
      "1    e\n",
      "2    e\n",
      "3    k\n",
      "4    s\n",
      "dtype: object\n",
      "0    u\n",
      "1    d\n",
      "2    b\n",
      "3    h\n",
      "4    a\n",
      "5    v\n",
      "dtype: object\n",
      "Geeks    10\n",
      "for      20\n",
      "geeks    30\n",
      "dtype: int64\n"
     ]
    }
   ],
   "source": [
    "# %load panda7.py\n",
    "import pandas as pd\n",
    "import numpy as np\n",
    "ser=pd.Series()\n",
    "print(ser)\n",
    "data=np.array(['g','e','e','k','s'])\n",
    "ser=pd.Series(data)\n",
    "print(ser)\n",
    "st='udbhav'\n",
    "stl=list(st)\n",
    "ser1=pd.Series(stl)\n",
    "print(ser1)\n",
    "data_dict = {'Geeks': 10, 'for': 20, 'geeks': 30}\n",
    "ser2=pd.Series(data_dict)\n",
    "print(ser2)\n",
    "\n"
   ]
  },
  {
   "cell_type": "code",
   "execution_count": 19,
   "id": "daf03741-fe5f-46a3-bd2d-06a23127c693",
   "metadata": {},
   "outputs": [
    {
     "name": "stdout",
     "output_type": "stream",
     "text": [
      "0      1.000\n",
      "1      1.375\n",
      "2      1.750\n",
      "3      2.125\n",
      "4      2.500\n",
      "5      2.875\n",
      "6      3.250\n",
      "7      3.625\n",
      "8      4.000\n",
      "9      4.375\n",
      "10     4.750\n",
      "11     5.125\n",
      "12     5.500\n",
      "13     5.875\n",
      "14     6.250\n",
      "15     6.625\n",
      "16     7.000\n",
      "17     7.375\n",
      "18     7.750\n",
      "19     8.125\n",
      "20     8.500\n",
      "21     8.875\n",
      "22     9.250\n",
      "23     9.625\n",
      "24    10.000\n",
      "dtype: float64\n",
      "0   -0.195513\n",
      "1    0.204897\n",
      "2    0.814103\n",
      "dtype: float64\n"
     ]
    }
   ],
   "source": [
    "# %load panda8.py\n",
    "import pandas as pd\n",
    "import numpy as np\n",
    "ser1=pd.Series(np.linspace(1,10,25))\n",
    "print(ser1)\n",
    "ser2=pd.Series(np.random.randn(3))\n",
    "print(ser2)\n"
   ]
  },
  {
   "cell_type": "code",
   "execution_count": 20,
   "id": "855d4d9d-978f-483a-93af-ff8bb5417052",
   "metadata": {},
   "outputs": [
    {
     "name": "stdout",
     "output_type": "stream",
     "text": [
      "0     5\n",
      "1     6\n",
      "2     7\n",
      "3     8\n",
      "4     9\n",
      "5    10\n",
      "6    11\n",
      "7    12\n",
      "8    13\n",
      "9    14\n",
      "dtype: int64\n",
      "a     1\n",
      "b     4\n",
      "c     7\n",
      "d    10\n",
      "e    13\n",
      "f    16\n",
      "g    19\n",
      "dtype: int64\n"
     ]
    }
   ],
   "source": [
    "# %load panda9.py\n",
    "import pandas as pd\n",
    "ser=pd.Series(range(5,15))\n",
    "print(ser)\n",
    "ser1=pd.Series(range(1,20,3),index=[x for x in 'abcdefg'])\n",
    "print(ser1)\n"
   ]
  },
  {
   "cell_type": "code",
   "execution_count": null,
   "id": "8c2770f4-72d2-4167-86f9-1c55482399ce",
   "metadata": {},
   "outputs": [],
   "source": []
  }
 ],
 "metadata": {
  "kernelspec": {
   "display_name": "Python 3 (ipykernel)",
   "language": "python",
   "name": "python3"
  },
  "language_info": {
   "codemirror_mode": {
    "name": "ipython",
    "version": 3
   },
   "file_extension": ".py",
   "mimetype": "text/x-python",
   "name": "python",
   "nbconvert_exporter": "python",
   "pygments_lexer": "ipython3",
   "version": "3.13.3"
  }
 },
 "nbformat": 4,
 "nbformat_minor": 5
}
